{
 "cells": [
  {
   "cell_type": "code",
   "execution_count": 1,
   "id": "bf25ed20",
   "metadata": {},
   "outputs": [],
   "source": [
    "import cv2 as cv\n",
    "import numpy as np\n",
    "\n",
    "classifer = cv.CascadeClassifier(\"haarcascade_frontalface_default.xml\")"
   ]
  },
  {
   "cell_type": "code",
   "execution_count": null,
   "id": "6d9b9598",
   "metadata": {},
   "outputs": [],
   "source": [
    "camera = cv.VideoCapture(0)\n",
    "\n",
    "while True:\n",
    "    \n",
    "    _,img = camera.read()\n",
    "    img = cv.flip(img, 1)\n",
    "    \n",
    "    gray = cv.cvtColor(img, cv.COLOR_RGB2GRAY)\n",
    "     \n",
    "    faces = classifer.detectMultiScale(gray, 1.7, 5)\n",
    "    \n",
    "    for (x,y,w,h) in faces:\n",
    "        cv.rectangle(img , (x,y), (x+w,y+h), (200,140,0), 5)\n",
    "        \n",
    "        face = img[ y:y+h , x:x+w ,:]\n",
    "        face = cv.blur(face, (100,100))\n",
    "        \n",
    "        img[ y:y+h , x:x+w ,:] = face\n",
    "    \n",
    "    \n",
    "    cv.imshow(\"Original\", img)    \n",
    "    \n",
    "    key = cv.waitKey(30)\n",
    "    \n",
    "    if(key == 27):\n",
    "        break\n",
    "    \n",
    "camera.release()"
   ]
  },
  {
   "cell_type": "code",
   "execution_count": null,
   "id": "49f91e3b",
   "metadata": {},
   "outputs": [],
   "source": []
  }
 ],
 "metadata": {
  "kernelspec": {
   "display_name": "Python 3 (ipykernel)",
   "language": "python",
   "name": "python3"
  },
  "language_info": {
   "codemirror_mode": {
    "name": "ipython",
    "version": 3
   },
   "file_extension": ".py",
   "mimetype": "text/x-python",
   "name": "python",
   "nbconvert_exporter": "python",
   "pygments_lexer": "ipython3",
   "version": "3.9.7"
  }
 },
 "nbformat": 4,
 "nbformat_minor": 5
}
